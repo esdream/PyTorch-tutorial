{
 "cells": [
  {
   "cell_type": "code",
   "execution_count": 3,
   "metadata": {},
   "outputs": [],
   "source": [
    "import torch\n",
    "import torch.nn as nn\n",
    "import torch.nn.functional as F\n",
    "import torch.optim as optim\n",
    "import numpy as np\n",
    "import random"
   ]
  },
  {
   "cell_type": "code",
   "execution_count": 21,
   "metadata": {},
   "outputs": [],
   "source": [
    "# 创建1000个长度为10的seq，并记录下每一个seq中最大值（9）的位置\n",
    "X_all = []\n",
    "y_all = []\n",
    "for i in range(1000):\n",
    "    temp_list = random.sample(range(0, 10), 10)\n",
    "    if(temp_list not in X_all):\n",
    "        X_all.append(temp_list)\n",
    "        y_all.append(temp_list.index(9))"
   ]
  },
  {
   "cell_type": "code",
   "execution_count": 27,
   "metadata": {},
   "outputs": [
    {
     "data": {
      "text/plain": [
       "[[3, 7, 1, 0, 9, 5, 2, 4, 8, 6],\n",
       " [4, 0, 6, 5, 2, 3, 8, 1, 9, 7],\n",
       " [0, 3, 5, 4, 2, 9, 7, 1, 6, 8],\n",
       " [7, 4, 0, 8, 9, 3, 2, 1, 5, 6],\n",
       " [5, 4, 2, 3, 8, 9, 7, 1, 0, 6]]"
      ]
     },
     "execution_count": 27,
     "metadata": {},
     "output_type": "execute_result"
    }
   ],
   "source": [
    "X_all[:5]"
   ]
  },
  {
   "cell_type": "code",
   "execution_count": 29,
   "metadata": {},
   "outputs": [
    {
     "data": {
      "text/plain": [
       "[4, 8, 5, 4, 5]"
      ]
     },
     "execution_count": 29,
     "metadata": {},
     "output_type": "execute_result"
    }
   ],
   "source": [
    "y_all[:5]"
   ]
  },
  {
   "cell_type": "code",
   "execution_count": null,
   "metadata": {},
   "outputs": [],
   "source": [
    "embeds = nn.Embedding"
   ]
  },
  {
   "cell_type": "code",
   "execution_count": null,
   "metadata": {},
   "outputs": [],
   "source": [
    "思路：将所有seqence去重，然后embed，embed后得到的vector余弦距离相近的，则最大值出现的位置相近或相同。但，如果没有近似的vector怎么办？怎么构建学习器？"
   ]
  }
 ],
 "metadata": {
  "kernelspec": {
   "display_name": "Python 3",
   "language": "python",
   "name": "python3"
  },
  "language_info": {
   "codemirror_mode": {
    "name": "ipython",
    "version": 3
   },
   "file_extension": ".py",
   "mimetype": "text/x-python",
   "name": "python",
   "nbconvert_exporter": "python",
   "pygments_lexer": "ipython3",
   "version": "3.6.5"
  }
 },
 "nbformat": 4,
 "nbformat_minor": 2
}
