{
 "cells": [
  {
   "cell_type": "code",
   "execution_count": 1,
   "metadata": {
    "collapsed": true
   },
   "outputs": [],
   "source": [
    "import torch\n",
    "import torch.nn.functional as F\n",
    "import torch.utils.data as Data\n",
    "import matplotlib.pyplot as plt\n",
    "\n",
    "% matplotlib inline"
   ]
  },
  {
   "cell_type": "code",
   "execution_count": 7,
   "metadata": {},
   "outputs": [
    {
     "name": "stdout",
     "output_type": "stream",
     "text": [
      "Epoch:  0 | Step:  0 | batch x:  [  6.   1.   7.   8.   3.  10.   9.   4.] | batch y:  [  5.  10.   4.   3.   8.   1.   2.   7.]\n",
      "Epoch:  0 | Step:  1 | batch x:  [ 2.  5.] | batch y:  [ 9.  6.]\n",
      "Epoch:  1 | Step:  0 | batch x:  [  2.   3.  10.   6.   5.   7.   1.   8.] | batch y:  [  9.   8.   1.   5.   6.   4.  10.   3.]\n",
      "Epoch:  1 | Step:  1 | batch x:  [ 4.  9.] | batch y:  [ 7.  2.]\n",
      "Epoch:  2 | Step:  0 | batch x:  [ 10.   4.   6.   8.   2.   5.   1.   7.] | batch y:  [  1.   7.   5.   3.   9.   6.  10.   4.]\n",
      "Epoch:  2 | Step:  1 | batch x:  [ 3.  9.] | batch y:  [ 8.  2.]\n"
     ]
    }
   ],
   "source": [
    "BATCH_SIZE = 8\n",
    "\n",
    "x = torch.linspace(1, 10, 10)\n",
    "y = torch.linspace(10, 1, 10)\n",
    "\n",
    "torch_dataset = Data.TensorDataset(x, y)\n",
    "loader = Data.DataLoader(\n",
    "    dataset=torch_dataset,\n",
    "    batch_size=BATCH_SIZE,\n",
    "    shuffle=True,\n",
    "    num_workers=2, # 使用两个线程提取\n",
    ")\n",
    "\n",
    "for epoch in range(3):\n",
    "    for step, (batch_x, batch_y) in enumerate(loader):\n",
    "        # training..\n",
    "        print('Epoch: ', epoch, '| Step: ', step, '| batch x: ',\n",
    "              batch_x.numpy(), '| batch y: ', batch_y.numpy())"
   ]
  }
 ],
 "metadata": {
  "kernelspec": {
   "display_name": "Python 3",
   "language": "python",
   "name": "python3"
  },
  "language_info": {
   "codemirror_mode": {
    "name": "ipython",
    "version": 3
   },
   "file_extension": ".py",
   "mimetype": "text/x-python",
   "name": "python",
   "nbconvert_exporter": "python",
   "pygments_lexer": "ipython3",
   "version": "3.6.1"
  }
 },
 "nbformat": 4,
 "nbformat_minor": 2
}
