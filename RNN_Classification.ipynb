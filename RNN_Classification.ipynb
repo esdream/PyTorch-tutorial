{
 "cells": [
  {
   "cell_type": "code",
   "execution_count": 2,
   "metadata": {},
   "outputs": [],
   "source": [
    "import torch\n",
    "from torch import nn\n",
    "import torchvision.datasets as dsets\n",
    "import torchvision.transforms as transforms\n",
    "import matplotlib.pyplot as plt\n",
    "\n",
    "%matplotlib inline"
   ]
  },
  {
   "cell_type": "code",
   "execution_count": 7,
   "metadata": {
    "collapsed": true
   },
   "outputs": [],
   "source": [
    "# Hyper Parameter\n",
    "EPOCH = 1\n",
    "BATCH_SIZE = 64\n",
    "TIME_STEP = 28 # 在这里的图片分类中，图片按行作为RNN的每一步，因此一共有28步\n",
    "INPUT_SIZE = 28 # 每一步中像素的数量为28个\n",
    "LR = 0.01\n",
    "DOWNLOAD_MNIST = False"
   ]
  },
  {
   "cell_type": "code",
   "execution_count": 13,
   "metadata": {},
   "outputs": [
    {
     "name": "stdout",
     "output_type": "stream",
     "text": [
      "torch.Size([60000, 28, 28])\n",
      "torch.Size([60000])\n"
     ]
    },
    {
     "data": {
      "image/png": "[encoded data removed]",
      "text/plain": [
       "<matplotlib.figure.Figure at 0x1d8248411d0>"
      ]
     },
     "metadata": {},
     "output_type": "display_data"
    }
   ],
   "source": [
    "# plot one example# plot  \n",
    "print(train_data.train_data.size())     # (60000, 28, 28)\n",
    "print(train_data.train_labels.size())   # (60000)\n",
    "plt.imshow(train_data.train_data[0].numpy(), cmap='gray')\n",
    "plt.title('%i' % train_data.train_labels[0])\n",
    "plt.show()"
   ]
  },
  {
   "cell_type": "code",
   "execution_count": 17,
   "metadata": {},
   "outputs": [],
   "source": [
    "train_data = dsets.MNIST(\n",
    "    root='./data/mnist/',\n",
    "    train=True,\n",
    "    transform=transforms.ToTensor(),\n",
    "    download=DOWNLOAD_MNIST\n",
    ")\n",
    "train_loader = torch.utils.data.DataLoader(\n",
    "    dataset=train_data,\n",
    "    batch_size=BATCH_SIZE,\n",
    "    shuffle=True\n",
    ")\n",
    "\n",
    "test_data = dsets.MNIST(root='./data/mnist/', train=False)\n",
    "# 测试数据只需要前2000个就足够了\n",
    "test_x = test_data.test_data.type(torch.FloatTensor)[:2000] / 255.\n",
    "test_y = test_data.test_labels[:2000]"
   ]
  },
  {
   "cell_type": "code",
   "execution_count": 19,
   "metadata": {},
   "outputs": [
    {
     "name": "stdout",
     "output_type": "stream",
     "text": [
      "RNN(\n",
      "  (rnn): LSTM(28, 64, batch_first=True)\n",
      "  (out): Linear(in_features=64, out_features=10, bias=True)\n",
      ")\n"
     ]
    }
   ],
   "source": [
    "class RNN(nn.Module):\n",
    "    def __init__(self):\n",
    "        super(RNN, self).__init__()\n",
    "        self.rnn = nn.LSTM(\n",
    "            input_size=INPUT_SIZE,\n",
    "            hidden_size=64,\n",
    "            num_layers=1,\n",
    "            batch_first=True, # 表示输入数据维度为(batch, time_step, input), 如果为False则维度为(time_step, batch, input)\n",
    "        )\n",
    "        self.out = nn.Linear(64, 10)\n",
    "        \n",
    "    def forward(self, x):\n",
    "        # r_out中存储每一步step的输出，h_n和h_c存储hidden state，也就是传入下一个RNN单元的状态\n",
    "        r_out, (h_n, h_c) = self.rnn(x, None)\n",
    "        # 由于只需要最后一个时刻的输出，而r_out的shape为(batch, time_step, input)，因此只需要传入最后一个时刻输出r_out[:, -1, :]最为self.out的参数计算即可\n",
    "        out = self.out(r_out[:, -1, :])\n",
    "        return out\n",
    "    \n",
    "rnn = RNN()\n",
    "print(rnn)"
   ]
  },
  {
   "cell_type": "code",
   "execution_count": 33,
   "metadata": {},
   "outputs": [
    {
     "name": "stdout",
     "output_type": "stream",
     "text": [
      "Epoch:  0 | train loss: 0.0057 | test accuracy: 0.97\n",
      "Epoch:  0 | train loss: 0.0450 | test accuracy: 0.97\n",
      "Epoch:  0 | train loss: 0.0024 | test accuracy: 0.97\n",
      "Epoch:  0 | train loss: 0.0239 | test accuracy: 0.97\n",
      "Epoch:  0 | train loss: 0.0407 | test accuracy: 0.97\n",
      "Epoch:  0 | train loss: 0.0056 | test accuracy: 0.97\n",
      "Epoch:  0 | train loss: 0.0137 | test accuracy: 0.97\n",
      "Epoch:  0 | train loss: 0.0734 | test accuracy: 0.97\n",
      "Epoch:  0 | train loss: 0.0544 | test accuracy: 0.98\n",
      "Epoch:  0 | train loss: 0.0230 | test accuracy: 0.98\n",
      "Epoch:  0 | train loss: 0.2052 | test accuracy: 0.97\n",
      "Epoch:  0 | train loss: 0.0141 | test accuracy: 0.97\n",
      "Epoch:  0 | train loss: 0.0351 | test accuracy: 0.98\n",
      "Epoch:  0 | train loss: 0.1592 | test accuracy: 0.97\n",
      "Epoch:  0 | train loss: 0.0559 | test accuracy: 0.98\n",
      "Epoch:  0 | train loss: 0.0426 | test accuracy: 0.97\n",
      "Epoch:  0 | train loss: 0.0345 | test accuracy: 0.97\n",
      "Epoch:  0 | train loss: 0.0201 | test accuracy: 0.97\n",
      "Epoch:  0 | train loss: 0.0516 | test accuracy: 0.98\n"
     ]
    }
   ],
   "source": [
    "optimizer = torch.optim.Adam(rnn.parameters(), lr=LR)\n",
    "loss_func = nn.CrossEntropyLoss()\n",
    "\n",
    "for epoch in range(EPOCH):\n",
    "    for step, (x, y) in enumerate(train_loader):\n",
    "        b_x = x.view(-1, 28, 28)\n",
    "        b_y = y\n",
    "        \n",
    "        output = rnn(b_x)\n",
    "        loss = loss_func(output, b_y)\n",
    "        optimizer.zero_grad()\n",
    "        loss.backward()\n",
    "        optimizer.step()\n",
    "        \n",
    "        if(step % 50 == 0):\n",
    "            test_output = rnn(test_x) # test_output是一个size为[2000, 10]的Tensor\n",
    "            # torch.max()方法是求test_output中最大的值，由于loss_func使用的是CrossEntropy，test_ouput中是0-9每个数字的概率值组成的10个元素的向量\n",
    "            # squeeze()方法将向量 [[]] 转化为ndarray ()，这样就能在matplotlib中正常绘制\n",
    "            pred_y = torch.max(test_output, 1)[1].data.numpy().squeeze() # pred_y是一个shape为(2000, )的ndarray\n",
    "            accuracy = (pred_y == test_y).sum().item() / float(test_y.size(0))\n",
    "            # loss.data就是一个标量（0-d tensor），使用item()将这个数也就是Loss值提取出来\n",
    "            print('Epoch: ', epoch, '| train loss: %.4f' % loss.data.item(), '| test accuracy: %.2f' % accuracy)"
   ]
  },
  {
   "cell_type": "code",
   "execution_count": 36,
   "metadata": {},
   "outputs": [
    {
     "name": "stdout",
     "output_type": "stream",
     "text": [
      "[7 2 1 0 4 1 4 9 6 9] prediction number\n",
      "tensor([ 7,  2,  1,  0,  4,  1,  4,  9,  5,  9]) real number\n"
     ]
    }
   ],
   "source": [
    "# print 10 predictions from test data\n",
    "test_output = rnn(test_x[:10].view(-1, 28, 28))\n",
    "pred_y = torch.max(test_output, 1)[1].data.numpy().squeeze()\n",
    "print(pred_y, 'prediction number')\n",
    "print(test_y[:10], 'real number')"
   ]
  }
 ],
 "metadata": {
  "kernelspec": {
   "display_name": "Python 3",
   "language": "python",
   "name": "python3"
  },
  "language_info": {
   "codemirror_mode": {
    "name": "ipython",
    "version": 3
   },
   "file_extension": ".py",
   "mimetype": "text/x-python",
   "name": "python",
   "nbconvert_exporter": "python",
   "pygments_lexer": "ipython3",
   "version": "3.6.1"
  }
 },
 "nbformat": 4,
 "nbformat_minor": 2
}
