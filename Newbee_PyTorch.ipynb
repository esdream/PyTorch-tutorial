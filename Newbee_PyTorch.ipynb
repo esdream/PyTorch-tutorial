{
 "cells": [
  {
   "cell_type": "code",
   "execution_count": 2,
   "metadata": {
    "collapsed": true
   },
   "outputs": [],
   "source": [
    "import torch\n",
    "import numpy as np"
   ]
  },
  {
   "cell_type": "code",
   "execution_count": 4,
   "metadata": {},
   "outputs": [
    {
     "name": "stdout",
     "output_type": "stream",
     "text": [
      "numpy:\n",
      " [[0 1 2]\n",
      " [3 4 5]]\n",
      "torch:\n",
      " tensor([[ 0,  1,  2],\n",
      "        [ 3,  4,  5]], dtype=torch.int32)\n",
      "tensor to array:\n",
      " [[0 1 2]\n",
      " [3 4 5]]\n"
     ]
    }
   ],
   "source": [
    "np_data = np.arange(6).reshape((2, 3))\n",
    "# numpy矩阵转成torch tensor\n",
    "torch_data = torch.from_numpy(np_data)\n",
    "# torch tensor转成numpy 矩阵\n",
    "tensor2array = torch_data.numpy()\n",
    "print('numpy:\\n', np_data)\n",
    "print('torch:\\n', torch_data)\n",
    "print('tensor to array:\\n', tensor2array)"
   ]
  },
  {
   "cell_type": "code",
   "execution_count": 12,
   "metadata": {},
   "outputs": [
    {
     "data": {
      "text/plain": [
       "tensor(0.)"
      ]
     },
     "execution_count": 12,
     "metadata": {},
     "output_type": "execute_result"
    }
   ],
   "source": [
    "# abs\n",
    "data = [-1, -2, 1, 2]\n",
    "tensor = torch.FloatTensor(data) # 32 bit\n",
    "tensor_abs = torch.abs(tensor)\n",
    "# mean\n",
    "tensor_mean = torch.mean(tensor)"
   ]
  },
  {
   "cell_type": "code",
   "execution_count": 16,
   "metadata": {
    "scrolled": true
   },
   "outputs": [
    {
     "name": "stdout",
     "output_type": "stream",
     "text": [
      "numpy:\n",
      " [[-1 -2]\n",
      " [ 1  2]]\n",
      "torch:\n",
      " tensor([[-1., -2.],\n",
      "        [ 1.,  2.]])\n"
     ]
    }
   ],
   "source": [
    "# matrix multiply\n",
    "data = [[-1, -2], [1, 2]]\n",
    "tensor = torch.FloatTensor(data)\n",
    "print('numpy:\\n', np.matmul(data, data))\n",
    "print('torch:\\n', torch.mm(tensor, tensor))"
   ]
  },
  {
   "cell_type": "code",
   "execution_count": 4,
   "metadata": {},
   "outputs": [
    {
     "name": "stdout",
     "output_type": "stream",
     "text": [
      "torch.Size([2, 4, 3, 5])\n",
      "Tensor[0, 1:3, :, 4]\n",
      " tensor([[ 0.3741,  0.4963,  0.3408],\n",
      "        [ 0.9541,  0.0046,  0.3202]])\n",
      "torch.Size([6, 5, 4])\n"
     ]
    }
   ],
   "source": [
    "# 张量分割\n",
    "t = torch.rand(2, 4, 3, 5)\n",
    "print(t.size())\n",
    "t_slice = t[0, 1:3, :, 4]\n",
    "print('Tensor[0, 1:3, :, 4]\\n', t_slice)\n",
    "\n",
    "# 张量重塑\n",
    "pytorch_reshape = t.view([6, 5, 4]) # 相当于numpy_reshape = a.reshape([6, 5, 4])\n",
    "print(pytorch_reshape.size())"
   ]
  },
  {
   "cell_type": "markdown",
   "metadata": {},
   "source": [
    "### 注：从v0.4.0开始，PyTorch废除了Variable，将Tensor与Variable合并成新的Tensor，Variable相当于Tensor(requires_grad=True), 可以学习新的Tensor语法。"
   ]
  },
  {
   "cell_type": "code",
   "execution_count": 17,
   "metadata": {
    "collapsed": true
   },
   "outputs": [],
   "source": [
    "# variable\n",
    "from torch.autograd import Variable"
   ]
  },
  {
   "cell_type": "code",
   "execution_count": 32,
   "metadata": {},
   "outputs": [
    {
     "name": "stdout",
     "output_type": "stream",
     "text": [
      "tensor:\n",
      " tensor([[ 1.,  2.],\n",
      "        [ 3.,  4.]])\n",
      "variable:\n",
      " tensor([[ 1.,  2.],\n",
      "        [ 3.,  4.]])\n",
      "tensor(7.5000)\n",
      "tensor(7.5000)\n",
      "gradient of variable:\n",
      "tensor([[ 0.5000,  1.0000],\n",
      "        [ 1.5000,  2.0000]])\n",
      "tensor([[ 1.,  2.],\n",
      "        [ 3.,  4.]])\n",
      "[[ 1.  2.]\n",
      " [ 3.  4.]]\n"
     ]
    }
   ],
   "source": [
    "# variable用于构造图进行计算，可以用于反向传播，而tensor不能用于反向传播时\n",
    "tensor = torch.FloatTensor([[1, 2], [3, 4]])\n",
    "variable = Variable(tensor, requires_grad=True)\n",
    "print('tensor:\\n', tensor)\n",
    "print('variable:\\n', variable)\n",
    "\n",
    "t_out = torch.mean(tensor * tensor)\n",
    "v_out = torch.mean(variable * variable)\n",
    "print(t_out)\n",
    "print(v_out)\n",
    "\n",
    "v_out.backward()\n",
    "# variable的梯度\n",
    "# v_out = 1/4 * sum(variable * variable)\n",
    "# d(v_out)/d(var) = 1/4*2*variable = variable/2\n",
    "print('gradient of variable:')\n",
    "print(variable.grad)\n",
    "\n",
    "print(variable.data)\n",
    "print(variable.data.numpy())"
   ]
  },
  {
   "cell_type": "code",
   "execution_count": 26,
   "metadata": {
    "collapsed": true
   },
   "outputs": [],
   "source": [
    "# Activation Function\n",
    "import torch.nn.functional as F\n",
    "import matplotlib.pyplot as plt\n",
    "%matplotlib inline"
   ]
  },
  {
   "cell_type": "code",
   "execution_count": 38,
   "metadata": {},
   "outputs": [
    {
     "data": {
      "text/plain": [
       "<matplotlib.legend.Legend at 0x20981ba5518>"
      ]
     },
     "execution_count": 38,
     "metadata": {},
     "output_type": "execute_result"
    },
    {
     "data": {
      "image/png": "[encoded data removed]",
      "text/plain": [
       "<matplotlib.figure.Figure at 0x209808de080>"
      ]
     },
     "metadata": {},
     "output_type": "display_data"
    }
   ],
   "source": [
    "# fake data\n",
    "x = torch.linspace(-5, 5, 200)\n",
    "x = Variable(x)\n",
    "x_np = x.data.numpy()\n",
    "\n",
    "y_relu = F.relu(x).data.numpy()\n",
    "y_sigmoid = F.sigmoid(x).data.numpy()\n",
    "y_tanh = F.tanh(x).data.numpy()\n",
    "y_softplus = F.softplus(x).data.numpy()\n",
    "# softmax计算的是分类中的概率\n",
    "# y_softmax = F.softmax(x)\n",
    "\n",
    "plt.figure(1, figsize=(8, 6))\n",
    "\n",
    "plt.subplot(221)\n",
    "plt.plot(x_np, y_relu, c='red', label='relu')\n",
    "plt.ylim((-1, 5))\n",
    "plt.legend(loc='best')\n",
    "\n",
    "plt.subplot(222)\n",
    "plt.plot(x_np, y_sigmoid, c='red', label='sigmoid')\n",
    "plt.ylim((-0.2, 1.2))\n",
    "plt.legend(loc='best')\n",
    "\n",
    "plt.subplot(223)\n",
    "plt.plot(x_np, y_tanh, c='red', label='tanh')\n",
    "plt.ylim((-1.2, 1.2))\n",
    "plt.legend(loc='best')\n",
    "\n",
    "plt.subplot(224)\n",
    "plt.plot(x_np, y_softplus, c='red', label='softplus')\n",
    "plt.ylim((-0.2, 6))\n",
    "plt.legend(loc='best')"
   ]
  }
 ],
 "metadata": {
  "kernelspec": {
   "display_name": "Python 3",
   "language": "python",
   "name": "python3"
  },
  "language_info": {
   "codemirror_mode": {
    "name": "ipython",
    "version": 3
   },
   "file_extension": ".py",
   "mimetype": "text/x-python",
   "name": "python",
   "nbconvert_exporter": "python",
   "pygments_lexer": "ipython3",
   "version": "3.6.1"
  }
 },
 "nbformat": 4,
 "nbformat_minor": 2
}
